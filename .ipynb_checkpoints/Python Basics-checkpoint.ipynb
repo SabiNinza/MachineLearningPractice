{
 "cells": [
  {
   "cell_type": "markdown",
   "metadata": {},
   "source": [
    "# Pattern"
   ]
  },
  {
   "cell_type": "code",
   "execution_count": 2,
   "metadata": {},
   "outputs": [
    {
     "name": "stdout",
     "output_type": "stream",
     "text": [
      "Enter the no. of row u want to print7\n",
      "   * \n",
      "  * * \n",
      " * * * \n",
      "* * * * \n",
      " * * * \n",
      "  * * \n",
      "   * \n"
     ]
    }
   ],
   "source": [
    "N=(int)(input(\"Enter the no. of row u want to print\"))\n",
    "for i in range(0,N):\n",
    "    if i<=N//2 :\n",
    "        print(\" \"*(N//2-i),end=\"\")\n",
    "        print(\"* \"*(i+1))\n",
    "    else :\n",
    "        print(\" \"*(i-N//2),end=\"\")\n",
    "        print(\"* \"*(N-i))\n",
    "    "
   ]
  },
  {
   "cell_type": "code",
   "execution_count": 5,
   "metadata": {},
   "outputs": [
    {
     "name": "stdout",
     "output_type": "stream",
     "text": [
      "enter the n for diamond pattern7\n",
      "* * * * * * * * \n",
      "* * *     * * * \n",
      "* *         * * \n",
      "*             * \n",
      "* *         * * \n",
      "* * *     * * * \n",
      "* * * * * * * * \n"
     ]
    }
   ],
   "source": [
    "N=(int)(input(\"enter the n for diamond pattern\"))\n",
    "for i in range(0,N):\n",
    "  if(i<=N//2):\n",
    "        print(\"* \"*(N//2-i+1),end=\"\")\n",
    "        print(\" \"*(4*i),end=\"\")\n",
    "        print(\"* \"*(N//2-i+1))\n",
    "  else :\n",
    "        print(\"* \"*(i-N//2+1),end=\"\")\n",
    "        print(\" \"*(4*(N-i-1)),end=\"\")\n",
    "        print(\"* \"*(i-N//2+1))"
   ]
  },
  {
   "cell_type": "code",
   "execution_count": 3,
   "metadata": {},
   "outputs": [
    {
     "name": "stdout",
     "output_type": "stream",
     "text": [
      "Enter the no of row u want to print7\n",
      "              1 \n",
      "         2 1      1 2 \n",
      "     3 2 1          1 2 3 \n",
      " 4 3 2 1              1 2 3 4 \n",
      "     3 2 1          1 2 3 \n",
      "         2 1      1 2 \n",
      "              1 \n"
     ]
    }
   ],
   "source": [
    "n=(int)(input(\"Enter the no of row u want to print\"))\n",
    "for i in range(0,n):\n",
    "     if i<=n//2:\n",
    "        print(\" \"*2*((n-1)-(2*i)),end=\" \")\n",
    "        a=i+1\n",
    "        if i!=0:\n",
    "         for j in range(0,i+1):\n",
    "            print(a, end=\" \")\n",
    "            a-=1\n",
    "        print(\" \"*(4*(i)),end=\" \")\n",
    "        a=1\n",
    "\n",
    "        for j in range(0,i+1):\n",
    "            print(a,end=\" \")\n",
    "            a+=1\n",
    "        print()  \n",
    "     else: \n",
    "        print(\" \"*2*((2*i)-(n-1)),end=\" \")\n",
    "        a=n-i\n",
    "        if i!=n-1:\n",
    "           for j in range(0,n-i):\n",
    "            print(a,end=\" \")\n",
    "            a-=1\n",
    "        print(\" \"*4*(n-i-1),end=\" \")\n",
    "        a=1\n",
    "        for j in range(0,n-i):\n",
    "         print(a,end=\" \")\n",
    "         a+=1\n",
    "        print()       \n",
    "        \n",
    "        "
   ]
  },
  {
   "cell_type": "code",
   "execution_count": 4,
   "metadata": {},
   "outputs": [
    {
     "name": "stdout",
     "output_type": "stream",
     "text": [
      "Enter the no. of row u want to print7\n",
      "       ******* \n",
      "\n",
      "      *      * \n",
      "\n",
      "     *      * \n",
      "\n",
      "    *      * \n",
      "\n",
      "   *      * \n",
      "\n",
      "  *      * \n",
      "\n",
      " ******* \n",
      "\n"
     ]
    }
   ],
   "source": [
    "n=(int)(input(\"Enter the no. of row u want to print\"))\n",
    "for i in range(0,n):\n",
    "  print(\" \"*(n-i-1),end=\" \")\n",
    "  if i==0 or i==n-1:\n",
    "        print(\"*\"*n,end=\" \")\n",
    "  else:\n",
    "    print(\"*\",end=\" \")\n",
    "    print(\" \"*(n//2+1),end=\" \")\n",
    "    print(\"*\",end=\" \")\n",
    "  print()\n",
    "  print()\n",
    " \n",
    "  \n",
    "  "
   ]
  },
  {
   "cell_type": "code",
   "execution_count": 10,
   "metadata": {},
   "outputs": [
    {
     "name": "stdout",
     "output_type": "stream",
     "text": [
      "Enter the u want to print the pattern7\n",
      "1\n",
      "11 \n",
      "111\n",
      "1001 \n",
      "11111\n",
      "100001 \n",
      "1111111\n"
     ]
    }
   ],
   "source": [
    "n=(int)(input(\"Enter the u want to print the pattern\"))\n",
    "for i in range(1,n+1):\n",
    " if i%2!=0:\n",
    "        print(\"1\"*i,end=\"\")\n",
    " else:\n",
    "    print(\"1\",end=\"\")\n",
    "    print(\"0\"*(i-2),end=\"\")\n",
    "    print(\"1\",end=\" \") \n",
    " print()"
   ]
  },
  {
   "cell_type": "code",
   "execution_count": 14,
   "metadata": {},
   "outputs": [
    {
     "name": "stdout",
     "output_type": "stream",
     "text": [
      "Enter the no u want to print7\n",
      "1\n",
      "11\n",
      "202\n",
      "3003\n",
      "40004\n",
      "500005\n",
      "6000006\n"
     ]
    }
   ],
   "source": [
    "n=(int)(input(\"Enter the no u want to print\"))\n",
    "for i in range(0,n):\n",
    "    if i==0: print(\"1\",end=\"\")\n",
    "    else :\n",
    "        print(i,end=\"\")\n",
    "        print(\"0\"*(i-1),end=\"\")\n",
    "        print(i,end=\"\")\n",
    "    print()     \n",
    " "
   ]
  },
  {
   "cell_type": "code",
   "execution_count": 16,
   "metadata": {},
   "outputs": [
    {
     "name": "stdout",
     "output_type": "stream",
     "text": [
      "Enter the no. u want to print pattern mountain9\n",
      "1                               1 \n",
      "1 2                           2 1 \n",
      "1 2 3                       3 2 1 \n",
      "1 2 3 4                   4 3 2 1 \n",
      "1 2 3 4 5               5 4 3 2 1 \n",
      "1 2 3 4 5 6           6 5 4 3 2 1 \n",
      "1 2 3 4 5 6 7       7 6 5 4 3 2 1 \n",
      "1 2 3 4 5 6 7 8   8 7 6 5 4 3 2 1 \n",
      "1 2 3 4 5 6 7 8 9 8 7 6 5 4 3 2 1 \n"
     ]
    }
   ],
   "source": [
    "n=(int)(input(\"Enter the no. u want to print pattern mountain\"))\n",
    "for i in range(0,n):\n",
    "    a=1\n",
    "    for j in range(0,i+1):\n",
    "        print(a,end=\" \")\n",
    "        a+=1\n",
    "    if(i!=n-1):\n",
    "     print(\"  \"*((2*n-3)-(2*i)),end=\"\")\n",
    "    else:\n",
    "     print(end=\"\")\n",
    "    a=i+1\n",
    "    for j in range(0,i+1):\n",
    "        if i==n-1 and j==0: \n",
    "            j+=1\n",
    "            a-=1\n",
    "            continue\n",
    "        print(a,end=\" \")\n",
    "        a-=1\n",
    "    print()"
   ]
  },
  {
   "cell_type": "code",
   "execution_count": 14,
   "metadata": {},
   "outputs": [
    {
     "name": "stdout",
     "output_type": "stream",
     "text": [
      "Enter the no.u want for Ganesha pattern13\n",
      "*     *******\n",
      "*     *\n",
      "*     *\n",
      "*     *\n",
      "*     *\n",
      "*     *\n",
      "*************\n",
      "      *     *\n",
      "      *     *\n",
      "      *     *\n",
      "      *     *\n",
      "      *     *\n",
      "*******     *\n"
     ]
    }
   ],
   "source": [
    "n=(int)(input(\"Enter the no.u want for Ganesha pattern\"))\n",
    "for i in range(0,n):\n",
    "      if i==n//2:\n",
    "            print(\"*\"*n,end=\"\")\n",
    "      else:\n",
    "         if i==n-1:\n",
    "            print(\"*\"*(n//2),end=\"\")\n",
    "         if i>n//2 and i!=n-1:\n",
    "             print(\" \"*(n//2),end=\"\")\n",
    "         print(\"*\",end=\"\")\n",
    "         print(\" \"*(n//2-1),end=\"\")\n",
    "         if i==0 :\n",
    "            print(\"*\"*(n//2),end=\"\")\n",
    "         print(\"*\",end=\"\")\n",
    "      print()\n",
    "        "
   ]
  },
  {
   "cell_type": "code",
   "execution_count": 31,
   "metadata": {},
   "outputs": [
    {
     "name": "stdout",
     "output_type": "stream",
     "text": [
      "Enter the no. for Pattern Triangle5\n",
      "        1 \n",
      "      2 3 4 \n",
      "    3 4 5 6 7 \n",
      "  4 5 6 7 8 7 6 \n",
      "5 6 7 8 9 8 7 6 5 \n"
     ]
    }
   ],
   "source": [
    "n=(int)(input(\"Enter the no. for Pattern Triangle\"))\n",
    "for i in range(0,n):\n",
    "    print(\"  \"*(n-i-1),end=\"\")\n",
    "    a=i+1\n",
    "    for j in range(0,2*i+1):\n",
    "        if j<n-1:\n",
    "            print(a,end=\" \")\n",
    "            a+=1\n",
    "        elif j==n-1:\n",
    "            print(a,end=\" \")\n",
    "            a-=1\n",
    "        else:\n",
    "            print(a,end=\" \")\n",
    "            a-=1\n",
    "    print()"
   ]
  },
  {
   "cell_type": "code",
   "execution_count": 51,
   "metadata": {},
   "outputs": [
    {
     "name": "stdout",
     "output_type": "stream",
     "text": [
      "Enter the n for inverted hour glass8\n",
      "8                                 8 \n",
      "8 7                             7 8 \n",
      "8 7 6                         6 7 8 \n",
      "8 7 6 5                     5 6 7 8 \n",
      "8 7 6 5 4                 4 5 6 7 8 \n",
      "8 7 6 5 4 3             3 4 5 6 7 8 \n",
      "8 7 6 5 4 3 2         2 3 4 5 6 7 8 \n",
      "8 7 6 5 4 3 2 1     1 2 3 4 5 6 7 8 \n",
      "8 7 6 5 4 3 2 1  0  1 2 3 4 5 6 7 8 \n",
      "8 7 6 5 4 3 2 1     1 2 3 4 5 6 7 8 \n",
      "8 7 6 5 4 3 2         2 3 4 5 6 7 8 \n",
      "8 7 6 5 4 3             3 4 5 6 7 8 \n",
      "8 7 6 5 4                 4 5 6 7 8 \n",
      "8 7 6 5                     5 6 7 8 \n",
      "8 7 6                         6 7 8 \n",
      "8 7                             7 8 \n",
      "8                                 8 \n"
     ]
    }
   ],
   "source": [
    "n=(int)(input(\"Enter the n for inverted hour glass\"))\n",
    "for i in range(0,2*n+1):\n",
    "    a=n\n",
    "    if i<((2*n+1)//2)+1:\n",
    "     c=0\n",
    "     if i==n:\n",
    "        c=1\n",
    "     for j in range(c,i+1):\n",
    "         print(a,end=\" \")\n",
    "         a-=1\n",
    "     if i==n:\n",
    "        print(\" \"+(str)(a),end=\" \")\n",
    "        a-=1\n",
    "     print(\"  \"*2*(n-i),end=\"\")\n",
    "     if i==n:\n",
    "        a+=2\n",
    "        print(end=\" \")\n",
    "        b=1\n",
    "        print(end=\"\")\n",
    "     else:\n",
    "        a+=1\n",
    "        b=0\n",
    "     for j in range(b,i+1):\n",
    "            print(a,end=\" \")\n",
    "            a+=1\n",
    "    else:\n",
    "     for j in range(0,2*n-i+1):\n",
    "        print(a,end=\" \")\n",
    "        a-=1\n",
    "     a+=1 \n",
    "     print(\"  \"*2*(i-n),end=\"\")\n",
    "     for j in range(0,2*n-i+1):\n",
    "        print(a,end=\" \")\n",
    "        a+=1\n",
    "    print()"
   ]
  },
  {
   "cell_type": "code",
   "execution_count": null,
   "metadata": {},
   "outputs": [],
   "source": []
  }
 ],
 "metadata": {
  "kernelspec": {
   "display_name": "Python 3",
   "language": "python",
   "name": "python3"
  },
  "language_info": {
   "codemirror_mode": {
    "name": "ipython",
    "version": 3
   },
   "file_extension": ".py",
   "mimetype": "text/x-python",
   "name": "python",
   "nbconvert_exporter": "python",
   "pygments_lexer": "ipython3",
   "version": "3.7.3"
  }
 },
 "nbformat": 4,
 "nbformat_minor": 2
}
